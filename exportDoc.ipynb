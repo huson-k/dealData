{
 "cells": [
  {
   "cell_type": "code",
   "execution_count": 1,
   "metadata": {},
   "outputs": [
    {
     "data": {
      "text/plain": [
       "'\\n    Author: hugnson kwok\\n    Date: 2024-07-02\\n    Description: \\n\\n    Usage:\\n        1. Update the file paths and column names as needed.\\n        2. Run the script using a Python interpreter.\\n\\n    Example:\\n        $ python your_script.py\\n'"
      ]
     },
     "execution_count": 1,
     "metadata": {},
     "output_type": "execute_result"
    }
   ],
   "source": [
    "\"\"\"\n",
    "    Author: hugnson kwok\n",
    "    Date: 2024-07-02\n",
    "    Description: \n",
    "\n",
    "    Usage:\n",
    "        1. Update the file paths and column names as needed.\n",
    "        2. Run the script using a Python interpreter.\n",
    "\n",
    "    Example:\n",
    "        $ python your_script.py\n",
    "\"\"\""
   ]
  },
  {
   "cell_type": "code",
   "execution_count": 2,
   "metadata": {},
   "outputs": [],
   "source": [
    "def get_allData(JF, bOa):\n",
    "    csv_file_name = r'/Users/kwok/Desktop/AI_for_env/dealData/csv/' + JF + '/' + bOa + '/'\n",
    "    data = pd.DataFrame()\n",
    "    data_list = os.listdir(csv_file_name)\n",
    "    for i in data_list[:]:\n",
    "        csv_ = pd.read_csv(csv_file_name + i)\n",
    "        data = pd.concat([data, csv_], axis=0)\n",
    "    return data"
   ]
  },
  {
   "cell_type": "code",
   "execution_count": 3,
   "metadata": {},
   "outputs": [],
   "source": [
    "def get_ktpower(data):\n",
    "    # 选择列名包含“空调总有功功率”字样的列并计算总和\n",
    "    ac_power_columns = [col for col in data.columns if \"空调总有功功率\" in col]\n",
    "    data['空调总有功功率总和'] = data[ac_power_columns].sum(axis=1)\n",
    "    return data"
   ]
  },
  {
   "cell_type": "code",
   "execution_count": 4,
   "metadata": {},
   "outputs": [],
   "source": [
    "def get_fwqpower(data):\n",
    "    # 选择列名包含“服务器X功率”字样的列并计算总和\n",
    "    server_power_columns = [col for col in data.columns if \"服务器\" in col and \"功率\" in col]\n",
    "    data['服务器功率总和'] = data[server_power_columns].sum(axis=1)\n",
    "    # 防止数据异常，做数据范围筛选\n",
    "    data = data[data['服务器功率总和'] != 0]\n",
    "    data = data[data['服务器功率总和'] > 200]\n",
    "    data['pPUE'] = (data['服务器功率总和'] + data['空调总有功功率总和']) / data['服务器功率总和']\n",
    "    return data"
   ]
  },
  {
   "cell_type": "code",
   "execution_count": 5,
   "metadata": {},
   "outputs": [],
   "source": [
    "def get_ktdata(data):\n",
    "    # \"风机1转速\", \"风机2转速\", \"压缩机1转速\", \"压缩机2容量\"\n",
    "    selected_columns = ['sampleTime'] + ['空调总有功功率总和','服务器功率总和', 'pPUE']\n",
    "    additional_columns = [\"回风温度1\",\"送风温度1\",\"风机1转速\", \"风机2转速\", \"压缩机1容量\", \"压缩机2容量\",\"冷凝风机1转速\"]\n",
    "    selected_columns += [col for col in data.columns if any(keyword in col for keyword in additional_columns)]\n",
    "    selected_columns = [element for element in selected_columns if \"设定\" not in element]\n",
    "\n",
    "    # 创建包含选定列的新DataFrame\n",
    "    selected_data = data[selected_columns]\n",
    "    return selected_data"
   ]
  },
  {
   "cell_type": "code",
   "execution_count": 6,
   "metadata": {},
   "outputs": [],
   "source": [
    "def get_ltdTemps(data, JF, fwq):\n",
    "    # 选择其他指定列\n",
    "    for fwq_i in fwq:\n",
    "        additional_columns = [\"FT\"+JF+'-'+fwq_i]\n",
    "        temps_columns = [col for col in data.columns if any(keyword in col for keyword in additional_columns)]\n",
    "        # 计算每列的平均值\n",
    "        \n",
    "        data[fwq_i+'冷通道avg'] = data[temps_columns].mean(axis=1)\n",
    "\n",
    "    server_tempsAVG_columns = [col for col in data.columns if \"冷通道avg\" in col]\n",
    "\n",
    "    columns = server_tempsAVG_columns\n",
    "\n",
    "    averages_data = pd.DataFrame({\n",
    "        'AB冷通道avg': data[[columns[0], columns[1]]].mean(axis=1),\n",
    "        'CD冷通道avg': data[[columns[2], columns[3]]].mean(axis=1),\n",
    "        'EF冷通道avg': data[[columns[4], columns[5]]].mean(axis=1),\n",
    "        'GH冷通道avg': data[[columns[6], columns[7]]].mean(axis=1),\n",
    "        'JK冷通道avg': data[[columns[8], columns[9]]].mean(axis=1)\n",
    "    })\n",
    "    return averages_data"
   ]
  },
  {
   "cell_type": "code",
   "execution_count": 7,
   "metadata": {},
   "outputs": [],
   "source": [
    "def JFdata(JF,bOa):\n",
    "    if JF == '204':\n",
    "        fwq = ['A','B','C','D','E','F','G','H','J','K','L','M','N','P']\n",
    "    if JF == '203':\n",
    "        fwq = ['A','B','C','D','E','F','G','H','J','K']\n",
    "        \n",
    "    data = get_allData(JF,bOa)\n",
    "    data =get_ktpower(data)\n",
    "    data = get_fwqpower(data)\n",
    "    selected_data = get_ktdata(data)\n",
    "    averages_data = get_ltdTemps(data,JF,fwq)\n",
    "\n",
    "    all_csv = pd.concat([selected_data, averages_data],axis=1)\n",
    "    # 删除指定列中包含0的行\n",
    "    all_csv = all_csv[(all_csv.iloc[:,-5:] > 10).all(axis=1)]\n",
    "    all_csv_avg = all_csv.iloc[:, 1:].mean(axis=0)\n",
    "    average_df = pd.DataFrame(all_csv_avg)\n",
    "    average_df.rename(columns={0: JF+bOa}, inplace=True)\n",
    "    return average_df"
   ]
  },
  {
   "cell_type": "code",
   "execution_count": 17,
   "metadata": {},
   "outputs": [],
   "source": [
    "import pandas as pd\n",
    "import os\n",
    "\n",
    "JF='204'\n",
    "\n",
    "before = JFdata(JF,'before')\n",
    "after = JFdata(JF,'after')\n",
    "\n",
    "data = pd.concat([before, after], axis=1)\n"
   ]
  },
  {
   "cell_type": "code",
   "execution_count": null,
   "metadata": {},
   "outputs": [],
   "source": [
    "\n",
    "data['变化百分比（%）'] = ((data.iloc[:,1] - data.iloc[:,0]) / data.iloc[:,0]) * 100\n",
    "data.to_csv('/Users/kwok/Desktop/AI_for_env/dealData/dataCsv/finally/' + JF + '.csv')"
   ]
  },
  {
   "cell_type": "code",
   "execution_count": 9,
   "metadata": {},
   "outputs": [],
   "source": [
    "# 保存新的DataFrame到新的CSV文件\n",
    "# output_path = '/Users/kwok/Deskto/AI_for_env/dealData/dataCsv/' + JF + bOa + '.csv'\n",
    "# all_csv.to_csv(output_path, index=False)"
   ]
  },
  {
   "cell_type": "markdown",
   "metadata": {},
   "source": [
    "## 对每列求平均（除了时间）"
   ]
  },
  {
   "cell_type": "code",
   "execution_count": 10,
   "metadata": {},
   "outputs": [],
   "source": [
    "# # 保存新的DataFrame到新的CSV文件\n",
    "# output_path2 = '/Users/kwok/Desktop/AI_for_env/dealData/dataCsv/' + JF + bOa + 'AVG.csv'\n",
    "# average_df.to_csv(output_path2, index=False)\n",
    "# average_df"
   ]
  }
 ],
 "metadata": {
  "kernelspec": {
   "display_name": "newTF",
   "language": "python",
   "name": "python3"
  },
  "language_info": {
   "codemirror_mode": {
    "name": "ipython",
    "version": 3
   },
   "file_extension": ".py",
   "mimetype": "text/x-python",
   "name": "python",
   "nbconvert_exporter": "python",
   "pygments_lexer": "ipython3",
   "version": "3.10.6"
  }
 },
 "nbformat": 4,
 "nbformat_minor": 2
}
